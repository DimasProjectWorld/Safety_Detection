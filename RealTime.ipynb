{
 "cells": [
  {
   "cell_type": "code",
   "execution_count": 9,
   "id": "1d68eb64",
   "metadata": {},
   "outputs": [],
   "source": [
    "import cv2\n",
    "import numpy as np"
   ]
  },
  {
   "cell_type": "code",
   "execution_count": 10,
   "id": "59b3f37e",
   "metadata": {},
   "outputs": [],
   "source": [
    "with open('obj.names', 'r') as f:\n",
    "    classes = f.read().splitlines()\n",
    "\n",
    "net = cv2.dnn.readNetFromDarknet('yolo-voc.2.0.cfg', 'yolo-voc_last.weights')\n",
    "\n",
    "model = cv2.dnn_DetectionModel(net)\n",
    "model.setInputParams(scale=1 / 255, size=(416, 416), swapRB=True)\n",
    "\n",
    "cap = cv2.VideoCapture(0)\n",
    "\n",
    "if not cap.isOpened():\n",
    "    raise IOError(\"Cannot open webcam\")\n",
    "\n",
    "while True:\n",
    "    ret, img = cap.read()\n",
    "\n",
    "    classIds, scores, boxes = model.detect(img, confThreshold=0.6, nmsThreshold=0.4)    \n",
    "\n",
    "    for (classId, score, box) in zip(classIds, scores, boxes):\n",
    "        cv2.rectangle(img, (box[0], box[1]), (box[0] + box[2], box[1] + box[3]),\n",
    "                    color=(0, 255, 0), thickness=2)\n",
    "    \n",
    "        text = classes[classId]\n",
    "        cv2.putText(img, text, (box[0], box[1] - 5), cv2.FONT_HERSHEY_SIMPLEX, 1,\n",
    "                    color=(0, 255, 0), thickness=2)\n",
    "\n",
    "    #frame = cv2.resize(frame, None, interpolation=cv2.INTER_AREA)\n",
    "    cv2.imshow('cam', img)\n",
    "\n",
    "    if cv2.waitKey(1) & 0xFF == 27:\n",
    "        break\n",
    "    \n",
    "cap.release()\n",
    "cv2.destroyAllWindows()"
   ]
  },
  {
   "cell_type": "code",
   "execution_count": null,
   "id": "c2aa575d",
   "metadata": {},
   "outputs": [],
   "source": []
  }
 ],
 "metadata": {
  "kernelspec": {
   "display_name": "Python 3 (ipykernel)",
   "language": "python",
   "name": "python3"
  },
  "language_info": {
   "codemirror_mode": {
    "name": "ipython",
    "version": 3
   },
   "file_extension": ".py",
   "mimetype": "text/x-python",
   "name": "python",
   "nbconvert_exporter": "python",
   "pygments_lexer": "ipython3",
   "version": "3.9.11"
  }
 },
 "nbformat": 4,
 "nbformat_minor": 5
}
